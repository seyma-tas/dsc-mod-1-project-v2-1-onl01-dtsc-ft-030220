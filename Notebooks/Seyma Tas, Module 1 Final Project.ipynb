{
 "cells": [
  {
   "cell_type": "markdown",
   "metadata": {},
   "source": [
    "# Final Project \n",
    "\n",
    "Please fill out:\n",
    "* Student name: Seyma Tas\n",
    "* Student pace: full time\n",
    "* Scheduled project review date/time: \n",
    "* Instructor name: Amber Yandow\n",
    "* Blog post URL:\n",
    "\n",
    "This project is \n"
   ]
  },
  {
   "cell_type": "code",
   "execution_count": 1,
   "metadata": {},
   "outputs": [
    {
     "data": {
      "application/javascript": [
       "IPython.notebook.set_autosave_interval(10000)"
      ]
     },
     "metadata": {},
     "output_type": "display_data"
    },
    {
     "name": "stdout",
     "output_type": "stream",
     "text": [
      "Autosaving every 10 seconds\n"
     ]
    }
   ],
   "source": [
    "%autosave 10\n",
    "# Autosaving every ten seconds."
   ]
  },
  {
   "cell_type": "markdown",
   "metadata": {},
   "source": [
    "## Import libraries"
   ]
  },
  {
   "cell_type": "code",
   "execution_count": 2,
   "metadata": {},
   "outputs": [],
   "source": [
    "# Import libraries\n",
    "import matplotlib.pyplot as plt\n",
    "import pandas as pd\n",
    "import numpy as np\n",
    "import seaborn as sns\n",
    "sns.set(color_codes=True)\n",
    "%matplotlib inline"
   ]
  },
  {
   "cell_type": "code",
   "execution_count": 3,
   "metadata": {},
   "outputs": [],
   "source": [
    "# Print all the interactive output without resorting to print\n",
    "from IPython.core.interactiveshell import InteractiveShell\n",
    "InteractiveShell.ast_node_interactivity = \"all\""
   ]
  },
  {
   "cell_type": "code",
   "execution_count": 4,
   "metadata": {},
   "outputs": [],
   "source": [
    "## Hide the warning boxes\n",
    "import warnings\n",
    "warnings.filterwarnings('ignore')"
   ]
  },
  {
   "cell_type": "markdown",
   "metadata": {},
   "source": [
    "## Set options"
   ]
  },
  {
   "cell_type": "code",
   "execution_count": 5,
   "metadata": {},
   "outputs": [],
   "source": [
    "## Display more information \n",
    "pd.set_option('display.max_rows', None)\n",
    "pd.set_option('display.max_columns', None)\n",
    "pd.set_option('display.width', None)\n",
    "pd.set_option('display.max_colwidth', -1)"
   ]
  },
  {
   "cell_type": "markdown",
   "metadata": {},
   "source": [
    "## Read datasets"
   ]
  },
  {
   "cell_type": "code",
   "execution_count": 6,
   "metadata": {},
   "outputs": [
    {
     "ename": "FileNotFoundError",
     "evalue": "[Errno 2] No such file or directory: 'zippedData/bom.movie_gross.csv.gz'",
     "output_type": "error",
     "traceback": [
      "\u001b[0;31m---------------------------------------------------------------------------\u001b[0m",
      "\u001b[0;31mFileNotFoundError\u001b[0m                         Traceback (most recent call last)",
      "\u001b[0;32m<ipython-input-6-0126ef38b309>\u001b[0m in \u001b[0;36m<module>\u001b[0;34m\u001b[0m\n\u001b[1;32m      1\u001b[0m \u001b[0;31m## Instantiate data frame from data #######################\u001b[0m\u001b[0;34m\u001b[0m\u001b[0;34m\u001b[0m\u001b[0;34m\u001b[0m\u001b[0m\n\u001b[1;32m      2\u001b[0m \u001b[0;34m\u001b[0m\u001b[0m\n\u001b[0;32m----> 3\u001b[0;31m \u001b[0mmovie_gross_df\u001b[0m \u001b[0;34m=\u001b[0m \u001b[0mpd\u001b[0m\u001b[0;34m.\u001b[0m\u001b[0mread_csv\u001b[0m\u001b[0;34m(\u001b[0m\u001b[0;34m'zippedData/bom.movie_gross.csv.gz'\u001b[0m\u001b[0;34m)\u001b[0m\u001b[0;34m\u001b[0m\u001b[0;34m\u001b[0m\u001b[0m\n\u001b[0m\u001b[1;32m      4\u001b[0m \u001b[0mimdb_name_basics_df\u001b[0m \u001b[0;34m=\u001b[0m \u001b[0mpd\u001b[0m\u001b[0;34m.\u001b[0m\u001b[0mread_csv\u001b[0m\u001b[0;34m(\u001b[0m\u001b[0;34m'zippedData/imdb.name.basics.csv.gz'\u001b[0m\u001b[0;34m)\u001b[0m\u001b[0;34m\u001b[0m\u001b[0;34m\u001b[0m\u001b[0m\n\u001b[1;32m      5\u001b[0m \u001b[0mimdb_title_akas_df\u001b[0m \u001b[0;34m=\u001b[0m \u001b[0mpd\u001b[0m\u001b[0;34m.\u001b[0m\u001b[0mread_csv\u001b[0m\u001b[0;34m(\u001b[0m\u001b[0;34m'zippedData/imdb.title.akas.csv.gz'\u001b[0m\u001b[0;34m)\u001b[0m\u001b[0;34m\u001b[0m\u001b[0;34m\u001b[0m\u001b[0m\n",
      "\u001b[0;32m/opt/anaconda3/lib/python3.7/site-packages/pandas/io/parsers.py\u001b[0m in \u001b[0;36mparser_f\u001b[0;34m(filepath_or_buffer, sep, delimiter, header, names, index_col, usecols, squeeze, prefix, mangle_dupe_cols, dtype, engine, converters, true_values, false_values, skipinitialspace, skiprows, skipfooter, nrows, na_values, keep_default_na, na_filter, verbose, skip_blank_lines, parse_dates, infer_datetime_format, keep_date_col, date_parser, dayfirst, cache_dates, iterator, chunksize, compression, thousands, decimal, lineterminator, quotechar, quoting, doublequote, escapechar, comment, encoding, dialect, error_bad_lines, warn_bad_lines, delim_whitespace, low_memory, memory_map, float_precision)\u001b[0m\n\u001b[1;32m    683\u001b[0m         )\n\u001b[1;32m    684\u001b[0m \u001b[0;34m\u001b[0m\u001b[0m\n\u001b[0;32m--> 685\u001b[0;31m         \u001b[0;32mreturn\u001b[0m \u001b[0m_read\u001b[0m\u001b[0;34m(\u001b[0m\u001b[0mfilepath_or_buffer\u001b[0m\u001b[0;34m,\u001b[0m \u001b[0mkwds\u001b[0m\u001b[0;34m)\u001b[0m\u001b[0;34m\u001b[0m\u001b[0;34m\u001b[0m\u001b[0m\n\u001b[0m\u001b[1;32m    686\u001b[0m \u001b[0;34m\u001b[0m\u001b[0m\n\u001b[1;32m    687\u001b[0m     \u001b[0mparser_f\u001b[0m\u001b[0;34m.\u001b[0m\u001b[0m__name__\u001b[0m \u001b[0;34m=\u001b[0m \u001b[0mname\u001b[0m\u001b[0;34m\u001b[0m\u001b[0;34m\u001b[0m\u001b[0m\n",
      "\u001b[0;32m/opt/anaconda3/lib/python3.7/site-packages/pandas/io/parsers.py\u001b[0m in \u001b[0;36m_read\u001b[0;34m(filepath_or_buffer, kwds)\u001b[0m\n\u001b[1;32m    455\u001b[0m \u001b[0;34m\u001b[0m\u001b[0m\n\u001b[1;32m    456\u001b[0m     \u001b[0;31m# Create the parser.\u001b[0m\u001b[0;34m\u001b[0m\u001b[0;34m\u001b[0m\u001b[0;34m\u001b[0m\u001b[0m\n\u001b[0;32m--> 457\u001b[0;31m     \u001b[0mparser\u001b[0m \u001b[0;34m=\u001b[0m \u001b[0mTextFileReader\u001b[0m\u001b[0;34m(\u001b[0m\u001b[0mfp_or_buf\u001b[0m\u001b[0;34m,\u001b[0m \u001b[0;34m**\u001b[0m\u001b[0mkwds\u001b[0m\u001b[0;34m)\u001b[0m\u001b[0;34m\u001b[0m\u001b[0;34m\u001b[0m\u001b[0m\n\u001b[0m\u001b[1;32m    458\u001b[0m \u001b[0;34m\u001b[0m\u001b[0m\n\u001b[1;32m    459\u001b[0m     \u001b[0;32mif\u001b[0m \u001b[0mchunksize\u001b[0m \u001b[0;32mor\u001b[0m \u001b[0miterator\u001b[0m\u001b[0;34m:\u001b[0m\u001b[0;34m\u001b[0m\u001b[0;34m\u001b[0m\u001b[0m\n",
      "\u001b[0;32m/opt/anaconda3/lib/python3.7/site-packages/pandas/io/parsers.py\u001b[0m in \u001b[0;36m__init__\u001b[0;34m(self, f, engine, **kwds)\u001b[0m\n\u001b[1;32m    893\u001b[0m             \u001b[0mself\u001b[0m\u001b[0;34m.\u001b[0m\u001b[0moptions\u001b[0m\u001b[0;34m[\u001b[0m\u001b[0;34m\"has_index_names\"\u001b[0m\u001b[0;34m]\u001b[0m \u001b[0;34m=\u001b[0m \u001b[0mkwds\u001b[0m\u001b[0;34m[\u001b[0m\u001b[0;34m\"has_index_names\"\u001b[0m\u001b[0;34m]\u001b[0m\u001b[0;34m\u001b[0m\u001b[0;34m\u001b[0m\u001b[0m\n\u001b[1;32m    894\u001b[0m \u001b[0;34m\u001b[0m\u001b[0m\n\u001b[0;32m--> 895\u001b[0;31m         \u001b[0mself\u001b[0m\u001b[0;34m.\u001b[0m\u001b[0m_make_engine\u001b[0m\u001b[0;34m(\u001b[0m\u001b[0mself\u001b[0m\u001b[0;34m.\u001b[0m\u001b[0mengine\u001b[0m\u001b[0;34m)\u001b[0m\u001b[0;34m\u001b[0m\u001b[0;34m\u001b[0m\u001b[0m\n\u001b[0m\u001b[1;32m    896\u001b[0m \u001b[0;34m\u001b[0m\u001b[0m\n\u001b[1;32m    897\u001b[0m     \u001b[0;32mdef\u001b[0m \u001b[0mclose\u001b[0m\u001b[0;34m(\u001b[0m\u001b[0mself\u001b[0m\u001b[0;34m)\u001b[0m\u001b[0;34m:\u001b[0m\u001b[0;34m\u001b[0m\u001b[0;34m\u001b[0m\u001b[0m\n",
      "\u001b[0;32m/opt/anaconda3/lib/python3.7/site-packages/pandas/io/parsers.py\u001b[0m in \u001b[0;36m_make_engine\u001b[0;34m(self, engine)\u001b[0m\n\u001b[1;32m   1133\u001b[0m     \u001b[0;32mdef\u001b[0m \u001b[0m_make_engine\u001b[0m\u001b[0;34m(\u001b[0m\u001b[0mself\u001b[0m\u001b[0;34m,\u001b[0m \u001b[0mengine\u001b[0m\u001b[0;34m=\u001b[0m\u001b[0;34m\"c\"\u001b[0m\u001b[0;34m)\u001b[0m\u001b[0;34m:\u001b[0m\u001b[0;34m\u001b[0m\u001b[0;34m\u001b[0m\u001b[0m\n\u001b[1;32m   1134\u001b[0m         \u001b[0;32mif\u001b[0m \u001b[0mengine\u001b[0m \u001b[0;34m==\u001b[0m \u001b[0;34m\"c\"\u001b[0m\u001b[0;34m:\u001b[0m\u001b[0;34m\u001b[0m\u001b[0;34m\u001b[0m\u001b[0m\n\u001b[0;32m-> 1135\u001b[0;31m             \u001b[0mself\u001b[0m\u001b[0;34m.\u001b[0m\u001b[0m_engine\u001b[0m \u001b[0;34m=\u001b[0m \u001b[0mCParserWrapper\u001b[0m\u001b[0;34m(\u001b[0m\u001b[0mself\u001b[0m\u001b[0;34m.\u001b[0m\u001b[0mf\u001b[0m\u001b[0;34m,\u001b[0m \u001b[0;34m**\u001b[0m\u001b[0mself\u001b[0m\u001b[0;34m.\u001b[0m\u001b[0moptions\u001b[0m\u001b[0;34m)\u001b[0m\u001b[0;34m\u001b[0m\u001b[0;34m\u001b[0m\u001b[0m\n\u001b[0m\u001b[1;32m   1136\u001b[0m         \u001b[0;32melse\u001b[0m\u001b[0;34m:\u001b[0m\u001b[0;34m\u001b[0m\u001b[0;34m\u001b[0m\u001b[0m\n\u001b[1;32m   1137\u001b[0m             \u001b[0;32mif\u001b[0m \u001b[0mengine\u001b[0m \u001b[0;34m==\u001b[0m \u001b[0;34m\"python\"\u001b[0m\u001b[0;34m:\u001b[0m\u001b[0;34m\u001b[0m\u001b[0;34m\u001b[0m\u001b[0m\n",
      "\u001b[0;32m/opt/anaconda3/lib/python3.7/site-packages/pandas/io/parsers.py\u001b[0m in \u001b[0;36m__init__\u001b[0;34m(self, src, **kwds)\u001b[0m\n\u001b[1;32m   1915\u001b[0m         \u001b[0mkwds\u001b[0m\u001b[0;34m[\u001b[0m\u001b[0;34m\"usecols\"\u001b[0m\u001b[0;34m]\u001b[0m \u001b[0;34m=\u001b[0m \u001b[0mself\u001b[0m\u001b[0;34m.\u001b[0m\u001b[0musecols\u001b[0m\u001b[0;34m\u001b[0m\u001b[0;34m\u001b[0m\u001b[0m\n\u001b[1;32m   1916\u001b[0m \u001b[0;34m\u001b[0m\u001b[0m\n\u001b[0;32m-> 1917\u001b[0;31m         \u001b[0mself\u001b[0m\u001b[0;34m.\u001b[0m\u001b[0m_reader\u001b[0m \u001b[0;34m=\u001b[0m \u001b[0mparsers\u001b[0m\u001b[0;34m.\u001b[0m\u001b[0mTextReader\u001b[0m\u001b[0;34m(\u001b[0m\u001b[0msrc\u001b[0m\u001b[0;34m,\u001b[0m \u001b[0;34m**\u001b[0m\u001b[0mkwds\u001b[0m\u001b[0;34m)\u001b[0m\u001b[0;34m\u001b[0m\u001b[0;34m\u001b[0m\u001b[0m\n\u001b[0m\u001b[1;32m   1918\u001b[0m         \u001b[0mself\u001b[0m\u001b[0;34m.\u001b[0m\u001b[0munnamed_cols\u001b[0m \u001b[0;34m=\u001b[0m \u001b[0mself\u001b[0m\u001b[0;34m.\u001b[0m\u001b[0m_reader\u001b[0m\u001b[0;34m.\u001b[0m\u001b[0munnamed_cols\u001b[0m\u001b[0;34m\u001b[0m\u001b[0;34m\u001b[0m\u001b[0m\n\u001b[1;32m   1919\u001b[0m \u001b[0;34m\u001b[0m\u001b[0m\n",
      "\u001b[0;32mpandas/_libs/parsers.pyx\u001b[0m in \u001b[0;36mpandas._libs.parsers.TextReader.__cinit__\u001b[0;34m()\u001b[0m\n",
      "\u001b[0;32mpandas/_libs/parsers.pyx\u001b[0m in \u001b[0;36mpandas._libs.parsers.TextReader._setup_parser_source\u001b[0;34m()\u001b[0m\n",
      "\u001b[0;32m/opt/anaconda3/lib/python3.7/gzip.py\u001b[0m in \u001b[0;36m__init__\u001b[0;34m(self, filename, mode, compresslevel, fileobj, mtime)\u001b[0m\n\u001b[1;32m    161\u001b[0m             \u001b[0mmode\u001b[0m \u001b[0;34m+=\u001b[0m \u001b[0;34m'b'\u001b[0m\u001b[0;34m\u001b[0m\u001b[0;34m\u001b[0m\u001b[0m\n\u001b[1;32m    162\u001b[0m         \u001b[0;32mif\u001b[0m \u001b[0mfileobj\u001b[0m \u001b[0;32mis\u001b[0m \u001b[0;32mNone\u001b[0m\u001b[0;34m:\u001b[0m\u001b[0;34m\u001b[0m\u001b[0;34m\u001b[0m\u001b[0m\n\u001b[0;32m--> 163\u001b[0;31m             \u001b[0mfileobj\u001b[0m \u001b[0;34m=\u001b[0m \u001b[0mself\u001b[0m\u001b[0;34m.\u001b[0m\u001b[0mmyfileobj\u001b[0m \u001b[0;34m=\u001b[0m \u001b[0mbuiltins\u001b[0m\u001b[0;34m.\u001b[0m\u001b[0mopen\u001b[0m\u001b[0;34m(\u001b[0m\u001b[0mfilename\u001b[0m\u001b[0;34m,\u001b[0m \u001b[0mmode\u001b[0m \u001b[0;32mor\u001b[0m \u001b[0;34m'rb'\u001b[0m\u001b[0;34m)\u001b[0m\u001b[0;34m\u001b[0m\u001b[0;34m\u001b[0m\u001b[0m\n\u001b[0m\u001b[1;32m    164\u001b[0m         \u001b[0;32mif\u001b[0m \u001b[0mfilename\u001b[0m \u001b[0;32mis\u001b[0m \u001b[0;32mNone\u001b[0m\u001b[0;34m:\u001b[0m\u001b[0;34m\u001b[0m\u001b[0;34m\u001b[0m\u001b[0m\n\u001b[1;32m    165\u001b[0m             \u001b[0mfilename\u001b[0m \u001b[0;34m=\u001b[0m \u001b[0mgetattr\u001b[0m\u001b[0;34m(\u001b[0m\u001b[0mfileobj\u001b[0m\u001b[0;34m,\u001b[0m \u001b[0;34m'name'\u001b[0m\u001b[0;34m,\u001b[0m \u001b[0;34m''\u001b[0m\u001b[0;34m)\u001b[0m\u001b[0;34m\u001b[0m\u001b[0;34m\u001b[0m\u001b[0m\n",
      "\u001b[0;31mFileNotFoundError\u001b[0m: [Errno 2] No such file or directory: 'zippedData/bom.movie_gross.csv.gz'"
     ]
    }
   ],
   "source": [
    "## Instantiate data frame from data #######################\n",
    "\n",
    "movie_gross_df = pd.read_csv('zippedData/bom.movie_gross.csv.gz')\n",
    "imdb_name_basics_df = pd.read_csv('zippedData/imdb.name.basics.csv.gz')\n",
    "imdb_title_akas_df = pd.read_csv('zippedData/imdb.title.akas.csv.gz')\n",
    "# I am not loading movie_info_df because I found movies_df which has more movies.\n",
    "# imdb_title_basics_df = pd.read_csv('zippedData/imdb.title.basics.csv.gz')\n",
    "imdb_title_crew_df = pd.read_csv('zippedData/imdb.title.crew.csv.gz')\n",
    "imdb_title_principals_df = pd.read_csv(\n",
    "    'zippedData/imdb.title.principals.csv.gz')\n",
    "imdb_title_ratings_df = pd.read_csv('zippedData/imdb.title.ratings.csv.gz')\n",
    "# I am not loading movie_info_df because I decided to not use the unique info (synopsis) from this table in my project\n",
    "# movie_info_df = pd.read_csv('zippedData/rt.movie_info.tsv.gz', delimiter='\\t')\n",
    "# I am not loading reviews_df because I decided to not use the unique info (review) from this table in my project\n",
    "# reviews_df = pd.read_csv('zippedData/rt.reviews.tsv.gz', encoding= 'unicode_escape', delimiter = '\\t')\n",
    "tmdb_movies_df = pd.read_csv('zippedData/tmdb.movies.csv')\n",
    "movie_budgets_df = pd.read_csv('zippedData/tn.movie_budgets.csv.gz')\n",
    "money_df = pd.read_csv('zippedData/money.csv')\n",
    "movies_df = pd.read_csv('zippedData/movies.csv')"
   ]
  },
  {
   "cell_type": "markdown",
   "metadata": {},
   "source": [
    "## EDA for all datasets\n",
    " There are 11 datasets given in the project and 2 datasets from the web. Exploratory data analysis was done in all data sets to gain a certain amount of familiarity with the data, before one starts to extract insights from it.There is enormous missing data in most of the data sets. The datasets found from the web has less missing data."
   ]
  },
  {
   "cell_type": "markdown",
   "metadata": {},
   "source": [
    "### Display the first 5 rows of data frames"
   ]
  },
  {
   "cell_type": "code",
   "execution_count": null,
   "metadata": {},
   "outputs": [],
   "source": [
    "movies_df.head()"
   ]
  },
  {
   "cell_type": "code",
   "execution_count": null,
   "metadata": {},
   "outputs": [],
   "source": [
    "movie_gross_df.head()"
   ]
  },
  {
   "cell_type": "code",
   "execution_count": null,
   "metadata": {},
   "outputs": [],
   "source": [
    "movie_budgets_df.head()"
   ]
  },
  {
   "cell_type": "code",
   "execution_count": null,
   "metadata": {},
   "outputs": [],
   "source": [
    "money_df.head()"
   ]
  },
  {
   "cell_type": "markdown",
   "metadata": {},
   "source": [
    "### Check shapes and info"
   ]
  },
  {
   "cell_type": "code",
   "execution_count": null,
   "metadata": {},
   "outputs": [],
   "source": [
    "## Check shapes ##     #################\n",
    "print(f'Shape of movie_gross_df is {movie_gross_df.shape}')\n",
    "print(f'Shape of imdb_name_basics_df is {imdb_name_basics_df.shape}')\n",
    "print(f'Shape of imdb_title_akas is {imdb_title_akas_df.shape}')\n",
    "print(f'Shape of imdb_title_crew_df is {imdb_title_crew_df.shape}')\n",
    "print(f'Shape of imdb_title_principals_df is {imdb_title_principals_df.shape}')\n",
    "print(f'Shape of imdb_title_ratings_df is {imdb_title_ratings_df.shape}')\n",
    "print(f'Shape of tmdb_movies_df is {tmdb_movies_df.shape}')\n",
    "print(f'Shape of movie_budgets_df is {movie_budgets_df.shape}')\n",
    "print(f'Shape of money_df is {money_df.shape}')\n",
    "print(f'Shape of movies_df is {movies_df.shape}')\n"
   ]
  },
  {
   "cell_type": "code",
   "execution_count": null,
   "metadata": {},
   "outputs": [],
   "source": [
    "## Check info ##\n",
    "print('----------------movie_gross_df--------------------')\n",
    "movie_gross_df.info()\n",
    "print('----------------imdb_name_basics_df--------------------')\n",
    "imdb_name_basics_df.info()\n",
    "print('----------------imdb_title_akas_df--------------------')\n",
    "imdb_title_akas_df.info()\n",
    "print('----------------imdb_title_crew_df-------------------')\n",
    "imdb_title_crew_df.info()\n",
    "print('----------------imdb_title_principals_df--------------------')\n",
    "imdb_title_principals_df.info()\n",
    "print('----------------imdb_title_ratings_df--------------------')\n",
    "imdb_title_ratings_df.info()\n",
    "print('----------------tmdb_movies_df--------------------')\n",
    "tmdb_movies_df.info() \n",
    "print('----------------movie_budgets_df--------------------')\n",
    "movie_budgets_df.info()\n",
    "print('----------------movies_df--------------------')\n",
    "movies_df.info()\n",
    "print('----------------money_df--------------------')"
   ]
  },
  {
   "cell_type": "markdown",
   "metadata": {},
   "source": [
    "### Check invalid values\n"
   ]
  },
  {
   "cell_type": "code",
   "execution_count": null,
   "metadata": {},
   "outputs": [],
   "source": [
    "## Check invalid (nan) values ##\n",
    "movies_df.isna().sum()\n",
    "movie_gross_df.isna().sum()\n",
    "movie_budgets_df.isna().sum()\n",
    "money_df.isna().sum()"
   ]
  },
  {
   "cell_type": "markdown",
   "metadata": {},
   "source": [
    "## Data cleaning for movie_gross_df\n",
    "\n",
    "After EDA it is explored that foreign_gross column has too many missing values. To keep the data as much as possible the dataframe is processed by seperating it into two dataframes. "
   ]
  },
  {
   "cell_type": "code",
   "execution_count": null,
   "metadata": {},
   "outputs": [],
   "source": [
    "# Define two dataframes from movie_gross_df\n",
    "domestic_gross_df = movie_gross_df.dropna(subset=['studio', 'domestic_gross'])\n",
    "total_gross_df = movie_gross_df.dropna()"
   ]
  },
  {
   "cell_type": "code",
   "execution_count": null,
   "metadata": {},
   "outputs": [],
   "source": [
    "## There is a problematic row in freign_gross column. This is a for loop to find it.\n",
    "\n",
    "# [float(a) for a in movie_gross_df['foreign_gross']]\n",
    "# for i, row in movie_gross_df.iterrows():\n",
    "#     if not isinstance(row['foreign_gross'], str):\n",
    "#         print(i, row['foreign_gross'])"
   ]
  },
  {
   "cell_type": "code",
   "execution_count": null,
   "metadata": {},
   "outputs": [],
   "source": [
    "## The row found by the for loop\n",
    "# total_gross_df[total_gross_df['foreign_gross'] == \"1,131.6\"]"
   ]
  },
  {
   "cell_type": "code",
   "execution_count": null,
   "metadata": {},
   "outputs": [],
   "source": [
    "# total_gross_df[total_gross_df['foreign_gross'] == \"1,131.6\"].index"
   ]
  },
  {
   "cell_type": "code",
   "execution_count": null,
   "metadata": {},
   "outputs": [],
   "source": [
    "# Replace , . $ from the string to change type to integer.\n",
    "total_gross_df['foreign_gross'] = total_gross_df['foreign_gross'].apply(\n",
    "    lambda x: x.replace(',', ''))\n",
    "total_gross_df['foreign_gross'] = total_gross_df['foreign_gross'].apply(\n",
    "    lambda x: x.replace('.', ''))"
   ]
  },
  {
   "cell_type": "code",
   "execution_count": null,
   "metadata": {},
   "outputs": [],
   "source": [
    "# Change the type from string to float.\n",
    "total_gross_df['foreign_gross'] = total_gross_df['foreign_gross'].astype(float)"
   ]
  },
  {
   "cell_type": "code",
   "execution_count": null,
   "metadata": {},
   "outputs": [],
   "source": [
    "# Make a new column with two columns of the data frame.\n",
    "sum_column = total_gross_df['foreign_gross'] + total_gross_df['domestic_gross']\n",
    "total_gross_df[\"total_gross\"] = sum_column"
   ]
  },
  {
   "cell_type": "code",
   "execution_count": null,
   "metadata": {},
   "outputs": [],
   "source": [
    "# Sort the values of the new column in descending order.\n",
    "total_gross_df = total_gross_df.sort_values(by='total_gross', ascending=False)"
   ]
  },
  {
   "cell_type": "code",
   "execution_count": null,
   "metadata": {},
   "outputs": [],
   "source": [
    "# Group the total gross data frame by studio,  find the mean of grouped values, sort groups in descending order.\n",
    "grouped_total_gross_df = total_gross_df.groupby(\n",
    "    'studio', as_index=False).mean().sort_values(by='total_gross', ascending=False)"
   ]
  },
  {
   "cell_type": "code",
   "execution_count": null,
   "metadata": {},
   "outputs": [],
   "source": [
    "# Filter the values to make a better plot.\n",
    "filtered_grouped_total_gross_df = grouped_total_gross_df[\n",
    "    grouped_total_gross_df['total_gross'] > 5e7]"
   ]
  },
  {
   "cell_type": "code",
   "execution_count": null,
   "metadata": {},
   "outputs": [],
   "source": [
    "# Group the domestic gross data frame by studio,  find the mean of grouped values, sort groups in descending order.\n",
    "grouped_domestic_gross_df = domestic_gross_df.groupby(\n",
    "    'studio', as_index=False).mean().sort_values(by='domestic_gross', ascending=False)"
   ]
  },
  {
   "cell_type": "code",
   "execution_count": null,
   "metadata": {},
   "outputs": [],
   "source": [
    "# Filter the values to make a better plot.\n",
    "filtered_grouped_domestic_gross_df = grouped_domestic_gross_df[\n",
    "    grouped_domestic_gross_df['domestic_gross'] > 1e7]"
   ]
  },
  {
   "cell_type": "code",
   "execution_count": null,
   "metadata": {},
   "outputs": [],
   "source": [
    "# Filter the values to make a better plot.\n",
    "total_gross_df = total_gross_df[:800]"
   ]
  },
  {
   "cell_type": "markdown",
   "metadata": {},
   "source": [
    "## Plot the high profit studios\n"
   ]
  },
  {
   "cell_type": "code",
   "execution_count": null,
   "metadata": {
    "scrolled": true
   },
   "outputs": [],
   "source": [
    "# Bar graph of high profit studios (domestic gross + foreign gross)\n",
    "# Set font scale and figsize\n",
    "sns.set(rc={'figure.figsize': (35, 8.27)}, font_scale=2)\n",
    "g = sns.barplot(x=\"studio\", y=\"total_gross\", data=total_gross_df)\n",
    "for item in g.get_xticklabels():\n",
    "    item.set_rotation(45)"
   ]
  },
  {
   "cell_type": "code",
   "execution_count": null,
   "metadata": {},
   "outputs": [],
   "source": [
    "# Bar graph of high profit studios (domestic gross + foreign gross)\n",
    "# Set font scale and figsize\n",
    "sns.set(rc={'figure.figsize': (35, 8.27)}, font_scale=2)\n",
    "sns.barplot(x=\"studio\", y=\"domestic_gross\",\n",
    "            data=filtered_grouped_domestic_gross_df)\n",
    "sns.barplot(x=\"studio\", y=\"total_gross\", data=filtered_grouped_total_gross_df)\n",
    "for item in g.get_xticklabels():     ## Rotate x labels to 45 degrees angle\n",
    "    item.set_rotation(45)"
   ]
  },
  {
   "cell_type": "code",
   "execution_count": null,
   "metadata": {
    "scrolled": true
   },
   "outputs": [],
   "source": [
    "# Bar graph of high profit studios (domestic gross)\n",
    "sns.set(rc={'figure.figsize': (35, 8.27)})\n",
    "sns.set(font_scale=2)  # Set font scale\n",
    "g = sns.barplot(x=\"studio\", y=\"domestic_gross\",\n",
    "                data=filtered_grouped_domestic_gross_df)\n",
    "for item in g.get_xticklabels():  # Rotate x labels to 45 degrees angle\n",
    "    item.set_rotation(45)"
   ]
  },
  {
   "cell_type": "markdown",
   "metadata": {},
   "source": [
    "## Data cleaning for movies_df"
   ]
  },
  {
   "cell_type": "code",
   "execution_count": null,
   "metadata": {},
   "outputs": [],
   "source": [
    "# Movies data frame does not contain null values.\n",
    "movies_df['tconst'].isna().sum()\n",
    "movies_df['primaryTitle'].isna().sum()\n",
    "movies_df['startYear'].isna().sum()\n",
    "movies_df['genres'].isna().sum()"
   ]
  },
  {
   "cell_type": "code",
   "execution_count": null,
   "metadata": {},
   "outputs": [],
   "source": [
    "# movies_df[movies_df.genres != '\\N']"
   ]
  },
  {
   "cell_type": "code",
   "execution_count": null,
   "metadata": {},
   "outputs": [],
   "source": [
    "movies_df = movies_df.drop_duplicates(\n",
    "    subset='tconst', keep='first')  # Drop duplicates"
   ]
  },
  {
   "cell_type": "markdown",
   "metadata": {},
   "source": [
    "## Data cleaning for movie_budgets_df"
   ]
  },
  {
   "cell_type": "code",
   "execution_count": null,
   "metadata": {},
   "outputs": [],
   "source": [
    "movie_budgets_df.isna().sum()\n",
    "## There is no need to drop columns."
   ]
  },
  {
   "cell_type": "code",
   "execution_count": null,
   "metadata": {},
   "outputs": [],
   "source": [
    "len(movie_budgets_df)"
   ]
  },
  {
   "cell_type": "code",
   "execution_count": null,
   "metadata": {},
   "outputs": [],
   "source": [
    "movie_budgets_df = movie_budgets_df.drop_duplicates(\n",
    "    subset=[\"release_date\", \"movie\"], keep=\"first\")"
   ]
  },
  {
   "cell_type": "markdown",
   "metadata": {},
   "source": [
    "### Merging two dataframes"
   ]
  },
  {
   "cell_type": "code",
   "execution_count": null,
   "metadata": {},
   "outputs": [],
   "source": [
    "# Change column names to prepare merge.\n",
    "movies_df = movies_df.rename(columns={'primaryTitle': 'movie'})"
   ]
  },
  {
   "cell_type": "code",
   "execution_count": null,
   "metadata": {},
   "outputs": [],
   "source": [
    "# Merge two data frames on movie column.\n",
    "movie_budgets_df = pd.merge(\n",
    "    movie_budgets_df, movies_df, how='inner', on='movie')"
   ]
  },
  {
   "cell_type": "code",
   "execution_count": null,
   "metadata": {},
   "outputs": [],
   "source": [
    "movie_budgets_df.head()"
   ]
  },
  {
   "cell_type": "markdown",
   "metadata": {},
   "source": [
    "### Exploding genres column"
   ]
  },
  {
   "cell_type": "code",
   "execution_count": null,
   "metadata": {},
   "outputs": [],
   "source": [
    "# Seperate the genres column to many columns to plot categorically.\n",
    "movie_budgets_df[\"genres\"] = movie_budgets_df[\"genres\"].str.split(\",\", 3)"
   ]
  },
  {
   "cell_type": "code",
   "execution_count": null,
   "metadata": {},
   "outputs": [],
   "source": [
    "# Making new columns with all elements of genres column.\n",
    "movie_budgets_df = movie_budgets_df.explode('genres')"
   ]
  },
  {
   "cell_type": "markdown",
   "metadata": {},
   "source": [
    "### More cleaning and preparing"
   ]
  },
  {
   "cell_type": "code",
   "execution_count": null,
   "metadata": {},
   "outputs": [],
   "source": [
    "# Reset the index and dropping the previous index column\n",
    "movie_budgets_df = movie_budgets_df.reset_index()\n",
    "movie_budgets_df = movie_budgets_df.drop(columns=['index'])"
   ]
  },
  {
   "cell_type": "code",
   "execution_count": null,
   "metadata": {},
   "outputs": [],
   "source": [
    "# Replace , . $ from the string to change type to integer.\n",
    "movie_budgets_df['worldwide_gross'] = movie_budgets_df['worldwide_gross'].apply(\n",
    "    lambda x: x.replace(',', ''))\n",
    "movie_budgets_df['worldwide_gross'] = movie_budgets_df['worldwide_gross'].apply(\n",
    "    lambda x: x.replace('.', ''))\n",
    "movie_budgets_df['worldwide_gross'] = movie_budgets_df['worldwide_gross'].apply(\n",
    "    lambda x: x.replace('$', ''))"
   ]
  },
  {
   "cell_type": "code",
   "execution_count": null,
   "metadata": {},
   "outputs": [],
   "source": [
    "# Replace , . $ from the string to change type to integer.\n",
    "movie_budgets_df['domestic_gross'] = movie_budgets_df['domestic_gross'].apply(\n",
    "    lambda x: x.replace(',', ''))\n",
    "movie_budgets_df['domestic_gross'] = movie_budgets_df['domestic_gross'].apply(\n",
    "    lambda x: x.replace('.', ''))\n",
    "movie_budgets_df['domestic_gross'] = movie_budgets_df['domestic_gross'].apply(\n",
    "    lambda x: x.replace('$', ''))"
   ]
  },
  {
   "cell_type": "code",
   "execution_count": null,
   "metadata": {},
   "outputs": [],
   "source": [
    "# Replace , . $ from the string to change type to integer.\n",
    "movie_budgets_df['production_budget'] = movie_budgets_df['production_budget'].apply(\n",
    "    lambda x: x.replace(',', ''))\n",
    "movie_budgets_df['production_budget'] = movie_budgets_df['production_budget'].apply(\n",
    "    lambda x: x.replace('.', ''))\n",
    "movie_budgets_df['production_budget'] = movie_budgets_df['production_budget'].apply(\n",
    "    lambda x: x.replace('$', ''))"
   ]
  },
  {
   "cell_type": "code",
   "execution_count": null,
   "metadata": {},
   "outputs": [],
   "source": [
    "# Change the type from string to integer.\n",
    "movie_budgets_df['worldwide_gross'] = movie_budgets_df['worldwide_gross'].astype(\n",
    "    int)\n",
    "movie_budgets_df['domestic_gross'] = movie_budgets_df['domestic_gross'].astype(\n",
    "    int)\n",
    "movie_budgets_df['production_budget'] = movie_budgets_df['production_budget'].astype(\n",
    "    int)"
   ]
  },
  {
   "cell_type": "code",
   "execution_count": null,
   "metadata": {},
   "outputs": [],
   "source": [
    "# Make a new column with two columns of the data frame.\n",
    "profit = movie_budgets_df['worldwide_gross'] + movie_budgets_df['production_budget']\n",
    "movie_budgets_df[\"profit\"] = profit"
   ]
  },
  {
   "cell_type": "code",
   "execution_count": null,
   "metadata": {},
   "outputs": [],
   "source": [
    "# Sort the values of worldwide gross column in descending order.\n",
    "movie_budgets_df = movie_budgets_df.sort_values(\n",
    "    by='profit', ascending=False)"
   ]
  },
  {
   "cell_type": "code",
   "execution_count": null,
   "metadata": {},
   "outputs": [],
   "source": [
    "movie_budgets_df.head()"
   ]
  },
  {
   "cell_type": "markdown",
   "metadata": {},
   "source": [
    "## Plot the genres of movies"
   ]
  },
  {
   "cell_type": "code",
   "execution_count": null,
   "metadata": {},
   "outputs": [],
   "source": [
    "sns.set(font_scale=2.1)  # Set font scale\n",
    "g = sns.barplot(x=\"genres\", y=\"profit\", data=movie_budgets_df)\n",
    "for item in g.get_xticklabels():  # Rotate x labels to 45 degrees angle\n",
    "    item.set_rotation(45)"
   ]
  },
  {
   "cell_type": "markdown",
   "metadata": {},
   "source": [
    "## Data cleaning and preparing"
   ]
  },
  {
   "cell_type": "code",
   "execution_count": null,
   "metadata": {},
   "outputs": [],
   "source": [
    "# Get the original dataset again to use in another plot\n",
    "movie_budgets_df = pd.read_csv('zippedData/tn.movie_budgets.csv.gz')\n",
    "movie_budgets_df.head()"
   ]
  },
  {
   "cell_type": "code",
   "execution_count": null,
   "metadata": {},
   "outputs": [],
   "source": [
    "# Replace , . $ from the string to change type to integer.\n",
    "movie_budgets_df['production_budget'] = movie_budgets_df['production_budget'].apply(\n",
    "    lambda x: x.strip('$'))\n",
    "movie_budgets_df['production_budget'] = movie_budgets_df['production_budget'].apply(\n",
    "    lambda x: x.replace(',', ''))\n",
    "movie_budgets_df['worldwide_gross'] = movie_budgets_df['worldwide_gross'].apply(\n",
    "    lambda x: x.strip('$'))\n",
    "movie_budgets_df['worldwide_gross'] = movie_budgets_df['worldwide_gross'].apply(\n",
    "    lambda x: x.replace(',', ''))\n",
    "movie_budgets_df['domestic_gross'] = movie_budgets_df['domestic_gross'].apply(\n",
    "    lambda x: x.strip('$'))\n",
    "movie_budgets_df['domestic_gross'] = movie_budgets_df['domestic_gross'].apply(\n",
    "    lambda x: x.replace(',', ''))"
   ]
  },
  {
   "cell_type": "code",
   "execution_count": null,
   "metadata": {},
   "outputs": [],
   "source": [
    "# Change the type from string to float.\n",
    "movie_budgets_df['production_budget'] = movie_budgets_df['production_budget'].astype(\n",
    "    float)\n",
    "movie_budgets_df['worldwide_gross'] = movie_budgets_df['worldwide_gross'].astype(\n",
    "    float)\n",
    "movie_budgets_df['domestic_gross'] = movie_budgets_df['domestic_gross'].astype(\n",
    "    float)"
   ]
  },
  {
   "cell_type": "code",
   "execution_count": null,
   "metadata": {},
   "outputs": [],
   "source": [
    "# Get the release month from the release by slicing.\n",
    "movie_budgets_df['release_month'] = [a[0:3]\n",
    "                                     for a in movie_budgets_df['release_date']]"
   ]
  },
  {
   "cell_type": "markdown",
   "metadata": {},
   "source": [
    "## Plot the budget and gross"
   ]
  },
  {
   "cell_type": "code",
   "execution_count": null,
   "metadata": {
    "scrolled": false
   },
   "outputs": [],
   "source": [
    "sns.set(font_scale=3)  # Set font scale\n",
    "sns.lmplot(x=\"production_budget\", y=\"worldwide_gross\", hue='release_month',\n",
    "           data=movie_budgets_df, height=14, aspect=1.1, scatter_kws={'alpha': 1, \"s\": 300}, line_kws={'lw': 7})\n",
    "plt.xlim([-0.5e8, None])\n",
    "plt.ylim([-0.3e9, None])  # set the x- and y-limits of plot."
   ]
  },
  {
   "cell_type": "code",
   "execution_count": null,
   "metadata": {},
   "outputs": [],
   "source": []
  },
  {
   "cell_type": "code",
   "execution_count": null,
   "metadata": {
    "scrolled": false
   },
   "outputs": [],
   "source": [
    "sns.set(font_scale=3)  # Set font scale\n",
    "sns.lmplot(x=\"production_budget\", y=\"domestic_gross\", hue='release_month',\n",
    "           data=movie_budgets_df, height=14, aspect=1.1, scatter_kws={'alpha': 1, \"s\": 300}, line_kws={'lw': 7})\n",
    "plt.xlim([-0.5e8, None])\n",
    "plt.ylim([-0.3e9, None])  # set the x- and y-limits of plot."
   ]
  },
  {
   "cell_type": "markdown",
   "metadata": {},
   "source": [
    "## Data cleaning for money_df"
   ]
  },
  {
   "cell_type": "code",
   "execution_count": null,
   "metadata": {},
   "outputs": [],
   "source": [
    "money_df = pd.read_csv('zippedData/money.csv')"
   ]
  },
  {
   "cell_type": "code",
   "execution_count": null,
   "metadata": {},
   "outputs": [],
   "source": [
    "len(money_df)"
   ]
  },
  {
   "cell_type": "code",
   "execution_count": null,
   "metadata": {},
   "outputs": [],
   "source": [
    "money_df.head()"
   ]
  },
  {
   "cell_type": "code",
   "execution_count": null,
   "metadata": {},
   "outputs": [],
   "source": [
    "money_df.info()"
   ]
  },
  {
   "cell_type": "code",
   "execution_count": null,
   "metadata": {},
   "outputs": [],
   "source": [
    "money_df = money_df.drop_duplicates(\n",
    "    subset='imdb_id', keep='first')  # Drop duplicates"
   ]
  },
  {
   "cell_type": "code",
   "execution_count": null,
   "metadata": {},
   "outputs": [],
   "source": [
    "len(money_df)"
   ]
  },
  {
   "cell_type": "code",
   "execution_count": null,
   "metadata": {},
   "outputs": [],
   "source": [
    "money_df = money_df.dropna(subset=['year', 'director','budget_usd','us_gross'])"
   ]
  },
  {
   "cell_type": "code",
   "execution_count": null,
   "metadata": {},
   "outputs": [],
   "source": [
    "len(money_df)"
   ]
  },
  {
   "cell_type": "code",
   "execution_count": null,
   "metadata": {},
   "outputs": [],
   "source": []
  },
  {
   "cell_type": "code",
   "execution_count": null,
   "metadata": {},
   "outputs": [],
   "source": []
  },
  {
   "cell_type": "code",
   "execution_count": null,
   "metadata": {},
   "outputs": [],
   "source": [
    "# money_df['year'][10470] = '2010'\n",
    "# money_df['year'][11092] = '2013'\n",
    "# money_df['year'][12981] = '1972'"
   ]
  },
  {
   "cell_type": "code",
   "execution_count": null,
   "metadata": {},
   "outputs": [],
   "source": []
  },
  {
   "cell_type": "code",
   "execution_count": null,
   "metadata": {},
   "outputs": [],
   "source": [
    "money_df['year'] = money_df['year'].apply(lambda x: x.replace('–', ''))"
   ]
  },
  {
   "cell_type": "code",
   "execution_count": null,
   "metadata": {},
   "outputs": [],
   "source": [
    "money_df['year']= money_df['year'].astype(int)"
   ]
  },
  {
   "cell_type": "code",
   "execution_count": null,
   "metadata": {},
   "outputs": [],
   "source": [
    "money_df.info()"
   ]
  },
  {
   "cell_type": "code",
   "execution_count": null,
   "metadata": {},
   "outputs": [],
   "source": [
    "money_df.head()"
   ]
  },
  {
   "cell_type": "code",
   "execution_count": null,
   "metadata": {},
   "outputs": [],
   "source": [
    "money_df.tail()"
   ]
  },
  {
   "cell_type": "code",
   "execution_count": null,
   "metadata": {},
   "outputs": [],
   "source": [
    "money_df = money_df[money_df['year'] >= 2000]\n",
    "money_df = money_df[money_df['region_code'==[US]]]"
   ]
  },
  {
   "cell_type": "code",
   "execution_count": null,
   "metadata": {},
   "outputs": [],
   "source": [
    "len(money_df)"
   ]
  },
  {
   "cell_type": "code",
   "execution_count": null,
   "metadata": {},
   "outputs": [],
   "source": [
    "money_df.info()"
   ]
  },
  {
   "cell_type": "code",
   "execution_count": null,
   "metadata": {},
   "outputs": [],
   "source": [
    "money_df['budget_usd'] = money_df['budget_usd'].apply(lambda x: x.strip('MM'))\n",
    "money_df['budget_usd'] = money_df['budget_usd'].apply(lambda x: x.strip('K'))\n",
    "money_df['year'] = money_df['year'].apply(lambda x: x.replace('$', ''))\n",
    "money_df['year'] = money_df['year'].apply(lambda x: x.replace('€', ''))\n",
    "money_df['year'] = money_df['year'].apply(lambda x: x.replace('£', ''))\n",
    "4192     INR 7  \n",
    "4392     INR 700 \n",
    "4440     THB 200 \n",
    "4480     FRF 160 \n",
    "4572     CNY 100 \n",
    "4941     CAD 6 \n",
    "5293     FRF 95 \n",
    "5320     INR 1.25B \n",
    "5323     INR 550   \n",
    "5387     CAD 5  \n",
    "5670     INR 1  \n",
    "5689     JPY 370 \n",
    "5726     INR 1.25B \n",
    "5805     CAD 4 \n",
    "5805     CAD 4 \n",
    "5934     INR 450 \n",
    "5948     INR 5.42B\n",
    "6027     CAD 5.5 \n",
    "6055     CAD 2 \n",
    "6145     CAD 5\n",
    "6185     INR 400\n",
    "6247     INR 700 \n",
    "6273     FRF 100 \n",
    "6301     FRF 327  \n",
    "6304     INR 550\n",
    "6394     INR 3.5B\n",
    "6429     INR 300\n",
    "6438     XN 48 \n",
    "6448     INR 500 \n",
    "6454     INR 1.5B\n",
    "6491     INR 350\n",
    "6544     INR 450 \n",
    "6588     INR 200\n",
    "6654     INR 350\n",
    "\n"
   ]
  },
  {
   "cell_type": "code",
   "execution_count": null,
   "metadata": {},
   "outputs": [],
   "source": [
    "[float(a) for a in money_df['budget_usd']]\n",
    "for i, row in money_df.iterrows():\n",
    "    if not isinstance(row['budget_usd'], str):\n",
    "        print(i, row['budget_usd'])"
   ]
  },
  {
   "cell_type": "code",
   "execution_count": null,
   "metadata": {},
   "outputs": [],
   "source": []
  },
  {
   "cell_type": "code",
   "execution_count": null,
   "metadata": {},
   "outputs": [],
   "source": []
  },
  {
   "cell_type": "code",
   "execution_count": null,
   "metadata": {},
   "outputs": [],
   "source": [
    "# Bar graph of directors of high profit movies\n",
    "# Set font scale and figsize\n",
    "sns.set(rc={'figure.figsize': (35, 8.27)}, font_scale=2)\n",
    "p = sns.barplot(x=\"director\", y=\"us_gross\", data=money_df)\n",
    "for item in p.get_xticklabels():\n",
    "    item.set_rotation(45)"
   ]
  },
  {
   "cell_type": "code",
   "execution_count": null,
   "metadata": {},
   "outputs": [],
   "source": []
  }
 ],
 "metadata": {
  "gist": {
   "data": {
    "description": "Seyma Tas, Module 1 Final Project.ipynb",
    "public": false
   },
   "id": ""
  },
  "kernelspec": {
   "display_name": "Python 3",
   "language": "python",
   "name": "python3"
  },
  "language_info": {
   "codemirror_mode": {
    "name": "ipython",
    "version": 3
   },
   "file_extension": ".py",
   "mimetype": "text/x-python",
   "name": "python",
   "nbconvert_exporter": "python",
   "pygments_lexer": "ipython3",
   "version": "3.7.4"
  }
 },
 "nbformat": 4,
 "nbformat_minor": 2
}
